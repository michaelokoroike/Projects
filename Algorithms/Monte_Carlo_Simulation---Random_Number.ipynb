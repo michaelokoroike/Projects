{
 "cells": [
  {
   "cell_type": "markdown",
   "id": "1bb15804",
   "metadata": {},
   "source": [
    "### **1. Introduction**\n",
    "\n",
    "We want to create a Monte Carlo simulation, where you pick a number between one number and another, and based on that, find the long-term probability of randomly selecting that number.\n",
    "\n",
    "Inspiration = https://pub.towardsai.net/monte-carlo-simulation-an-in-depth-tutorial-with-python-bcf6eb7856c8"
   ]
  },
  {
   "cell_type": "markdown",
   "id": "fe50ea98",
   "metadata": {},
   "source": [
    "### **2. Import libraries**"
   ]
  },
  {
   "cell_type": "code",
   "execution_count": 18,
   "id": "41d38b7f",
   "metadata": {},
   "outputs": [],
   "source": [
    "import random\n",
    "import numpy as np\n",
    "import matplotlib.pyplot as plt"
   ]
  },
  {
   "cell_type": "markdown",
   "id": "d429c426",
   "metadata": {},
   "source": [
    "### **3. Create a Random Number Function**\n",
    "\n",
    "This function will randomly choose a number within a range based on the minimum and maximum outer bounds the user gives it."
   ]
  },
  {
   "cell_type": "code",
   "execution_count": 19,
   "id": "c8a6cbc4",
   "metadata": {},
   "outputs": [],
   "source": [
    "def random_number(minimum, maximum): #choose a random number in the range you chose\n",
    "    return random.randint(minimum, maximum)"
   ]
  },
  {
   "cell_type": "code",
   "execution_count": 20,
   "id": "61668cce",
   "metadata": {},
   "outputs": [
    {
     "data": {
      "text/plain": [
       "535116"
      ]
     },
     "execution_count": 20,
     "metadata": {},
     "output_type": "execute_result"
    }
   ],
   "source": [
    "random_number(-10000, 1000000) #test the random number picker"
   ]
  },
  {
   "cell_type": "markdown",
   "id": "2675e2bc",
   "metadata": {},
   "source": [
    "### 4. Create and Run a Monte Carlo Function\n",
    "\n",
    "We will create and run a monte carlo function which tells the user to enter a range of numbers to randomly select from (maximum and minimum), a number within that range (num), and the number of times to randomly select within that range (iterations). We find the theoretical long-term probability of choosing num within the minimum-maximum range, and we test to see if over time, through iterations, we approach that theoretical probability."
   ]
  },
  {
   "cell_type": "code",
   "execution_count": 39,
   "id": "f7db9b63",
   "metadata": {},
   "outputs": [],
   "source": [
    "prob_dct = {} #List will store probability values\n",
    "\n",
    "def monte_carlo(minimum, maximum, num, iterations):\n",
    "    if num > maximum or num < minimum or minimum >= maximum or (maximum-minimum < 10) or iterations < 10:\n",
    "        print('Input a minimum that is less than the maximum by at least 10, and a number between these two numbers.')\n",
    "        return 'N/A'\n",
    "    \n",
    "    results = 0\n",
    "    \n",
    "    for i in range(iterations):\n",
    "        rand_number = random_number(minimum, maximum)\n",
    "        #print(rand_number, \"vs\", num)\n",
    "        if rand_number == num: \n",
    "            results += 1\n",
    "        elif rand_number != num:\n",
    "            results += 0\n",
    "        \n",
    "        prob_value = results/(i+1) #Calculating probability value\n",
    "        \n",
    "        prob_dct[i] = prob_value #Append probability values to dictionary\n",
    "        \n",
    "    #Plot results\n",
    "    plt.axhline(1/(maximum-minimum), color='r', linestyle='-')\n",
    "    plt.xlabel('Iterations')\n",
    "    plt.ylabel('Probability')\n",
    "    \n",
    "    lists = sorted(prob_dct.items()) # sorted by key, return a list of tuples\n",
    "    x, y = zip(*lists) # unpack a list of pairs into two tuples\n",
    "    plt.plot(x, y)\n",
    "    plt.show()\n",
    "    \n",
    "\n",
    "    return results/(iterations) #return final long-run probability"
   ]
  },
  {
   "cell_type": "markdown",
   "id": "eb8c5559",
   "metadata": {},
   "source": [
    "### 5. Run the Monte Carlo simulation"
   ]
  },
  {
   "cell_type": "code",
   "execution_count": 52,
   "id": "e6c44807",
   "metadata": {},
   "outputs": [
    {
     "data": {
      "image/png": "[encoded data removed]",
      "text/plain": [
       "<Figure size 432x288 with 1 Axes>"
      ]
     },
     "metadata": {
      "needs_background": "light"
     },
     "output_type": "display_data"
    },
    {
     "data": {
      "text/plain": [
       "0.0104"
      ]
     },
     "execution_count": 52,
     "metadata": {},
     "output_type": "execute_result"
    }
   ],
   "source": [
    "monte_carlo(minimum=1, maximum=100, num=5, iterations=10000)"
   ]
  },
  {
   "cell_type": "markdown",
   "id": "e697490e",
   "metadata": {},
   "source": [
    "* The above Monte Carlo simulation essentially asks pick a number between 1 and 100 (we chose 5); we will pick a random number between 1 and 100 for 10,000 iterations, and measure how often the number within the range is chosen. Theoretically, it would be chosen 1% of the time (1/100), which is where we draw the red line. In the early iterations, the long-run probabily had been higher due to 5 having been randomly selected more often than what may have been expected; but given the law of large numbers, probably after 5,000 or so iterations, the experimental hit rate of selecting 5 when randomly choosing between the bounds of 1 and 100 approached the theoretical probability of 1%, 1.04% to be exact. We would only expect the most minor of variability as time were to go on.\n",
    "\n",
    "\n",
    "* Let's go further - how often would each number in the range be chosen? What would that distrbution look like?"
   ]
  },
  {
   "cell_type": "code",
   "execution_count": 70,
   "id": "b9ced367",
   "metadata": {},
   "outputs": [],
   "source": [
    "lst = []\n",
    "\n",
    "import seaborn as sns\n",
    "\n",
    "def monte_carlo_hist(minimum, maximum, iterations):\n",
    "    if minimum >= maximum or (maximum-minimum < 10) or iterations < 10:\n",
    "        print('Input a minimum that is less than the maximum by at least 10.')\n",
    "        return 'N/A'\n",
    "    \n",
    "    results = 0\n",
    "    \n",
    "    for i in range(iterations):\n",
    "        rand_number = random_number(minimum, maximum)\n",
    "        lst.append(rand_number) #Append probability values to list\n",
    "        \n",
    "    #Plot results\n",
    "    plt.axhline(1/(maximum-minimum), color='orange', linestyle='-')\n",
    "    plt.xlabel('Number Range')\n",
    "    plt.ylabel('Probability Density')\n",
    "    sns.distplot(lst)\n",
    "    #plt.hist(lst, bins=100, density=True)\n",
    "    plt.show()"
   ]
  },
  {
   "cell_type": "code",
   "execution_count": 72,
   "id": "099d74af",
   "metadata": {},
   "outputs": [
    {
     "name": "stderr",
     "output_type": "stream",
     "text": [
      "c:\\users\\acer\\appdata\\local\\programs\\python\\python37\\lib\\site-packages\\seaborn\\distributions.py:2619: FutureWarning: `distplot` is a deprecated function and will be removed in a future version. Please adapt your code to use either `displot` (a figure-level function with similar flexibility) or `histplot` (an axes-level function for histograms).\n",
      "  warnings.warn(msg, FutureWarning)\n"
     ]
    },
    {
     "data": {
      "image/png": "[encoded data removed]",
      "text/plain": [
       "<Figure size 432x288 with 1 Axes>"
      ]
     },
     "metadata": {
      "needs_background": "light"
     },
     "output_type": "display_data"
    }
   ],
   "source": [
    "monte_carlo_hist(minimum=1, maximum=100, iterations=100000)"
   ]
  },
  {
   "cell_type": "markdown",
   "id": "906a8daf",
   "metadata": {},
   "source": [
    "* We have translated the original line graph to a probability density function histogram (a seaborn distplot), which illustrates the probability of each value within the number range over a given amount of iterations. As you can see, even with the excessive binning we teach the function, each value essentially ends up being randomly picked at the theoretical frequency of 1%.\n",
    "\n",
    "\n",
    "* There are many other mathematical proabilities and dilemmas that can be tested, but what is depicted above is the crux of the matter; understanding the theoretical/mathematical likelihood of the problem, and experimenting against that likelihood."
   ]
  }
 ],
 "metadata": {
  "kernelspec": {
   "display_name": "Python 3 (ipykernel)",
   "language": "python",
   "name": "python3"
  },
  "language_info": {
   "codemirror_mode": {
    "name": "ipython",
    "version": 3
   },
   "file_extension": ".py",
   "mimetype": "text/x-python",
   "name": "python",
   "nbconvert_exporter": "python",
   "pygments_lexer": "ipython3",
   "version": "3.7.8"
  }
 },
 "nbformat": 4,
 "nbformat_minor": 5
}
